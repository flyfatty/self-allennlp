{
 "cells": [
  {
   "cell_type": "code",
   "execution_count": 95,
   "metadata": {},
   "outputs": [
    {
     "name": "stderr",
     "output_type": "stream",
     "text": [
      "/home/liubin/tutorials/self-allennlp/config.py:18: YAMLLoadWarning: calling yaml.load() without Loader=... is deprecated, as the default Loader is unsafe. Please read https://msg.pyyaml.org/load for full details.\n",
      "  yaml_config_dict = yaml.load(open(YAML_CONFIG_PATH, encoding=\"utf-8\"))\n"
     ]
    }
   ],
   "source": [
    "import os\n",
    "import pandas as pd\n",
    "import matplotlib.pyplot as plt\n",
    "from sklearn.feature_extraction.text import CountVectorizer, TfidfVectorizer , TfidfTransformer\n",
    "from sklearn.pipeline import Pipeline\n",
    "from sklearn.linear_model import SGDClassifier\n",
    "from sklearn.model_selection import GridSearchCV , train_test_split\n",
    "\n",
    "from config import ConfigManager\n",
    "\n",
    "config = ConfigManager()\n",
    "train_data_path = os.path.join(config.DATA_PATH , \"movie_review\" , 'train.tsv')\n",
    "\n",
    "df = pd.read_table(train_data_path,names=['text','label'])\n",
    "df['text_len'] = df['text'].map(lambda x : len(x.split()))\n",
    "train_X , valid_X , train_y , valid_y = train_test_split(df['text'],df['label'])"
   ]
  },
  {
   "cell_type": "code",
   "execution_count": 401,
   "metadata": {},
   "outputs": [
    {
     "data": {
      "text/plain": [
       "0.9958333333333333"
      ]
     },
     "execution_count": 401,
     "metadata": {},
     "output_type": "execute_result"
    }
   ],
   "source": [
    "vect = CountVectorizer(binary=True)\n",
    "tfidf = TfidfTransformer(use_idf=True)\n",
    "clf = SGDClassifier(penalty='elasticnet',loss='log',alpha=0.0005,l1_ratio=0.1)\n",
    "data_vect = vect.fit_transform(train_X)\n",
    "data_tfidf = tfidf.fit_transform(data_vect)\n",
    "clf.fit(data_vect , train_y)\n",
    "accuracy_score(clf.predict(data_tfidf),train_y)"
   ]
  },
  {
   "cell_type": "code",
   "execution_count": 402,
   "metadata": {},
   "outputs": [
    {
     "data": {
      "text/plain": [
       "0.86"
      ]
     },
     "execution_count": 402,
     "metadata": {},
     "output_type": "execute_result"
    }
   ],
   "source": [
    "data_vect_v = vect.transform(valid_X)\n",
    "data_tfidf_v = tfidf.transform(data_vect_v)\n",
    "# clf.fit(data_tfidf_v , valid_y)\n",
    "clf.score(data_vect_v,valid_y)"
   ]
  },
  {
   "cell_type": "code",
   "execution_count": 227,
   "metadata": {},
   "outputs": [
    {
     "data": {
      "text/plain": [
       "1"
      ]
     },
     "execution_count": 227,
     "metadata": {},
     "output_type": "execute_result"
    }
   ],
   "source": [
    "clf.n_iter_"
   ]
  },
  {
   "cell_type": "code",
   "execution_count": null,
   "metadata": {},
   "outputs": [],
   "source": []
  },
  {
   "cell_type": "code",
   "execution_count": 116,
   "metadata": {},
   "outputs": [
    {
     "data": {
      "text/plain": [
       "1.0"
      ]
     },
     "execution_count": 116,
     "metadata": {},
     "output_type": "execute_result"
    }
   ],
   "source": [
    "from sklearn.metrics import accuracy_score\n",
    "accuracy_score(clf.predict(data_tfidf),train_y)"
   ]
  },
  {
   "cell_type": "code",
   "execution_count": 42,
   "metadata": {},
   "outputs": [],
   "source": [
    "\n",
    "\n",
    "parameters = {\n",
    "    'vect__max_df': (0.5, 0.75, 1.0),\n",
    "    #'vect__max_features': (None, 5000, 10000, 50000),\n",
    "    'vect__ngram_range': ((1, 1), (1, 2)),  # unigrams or bigrams\n",
    "    #'tfidf__use_idf': (True, False),\n",
    "    #'tfidf__norm': ('l1', 'l2'),\n",
    "    'clf__alpha': (0.00001, 0.000001),\n",
    "    'clf__penalty': ('l2', 'elasticnet'),\n",
    "    #'clf__n_iter': (10, 50, 80),\n",
    "}"
   ]
  },
  {
   "cell_type": "code",
   "execution_count": 43,
   "metadata": {},
   "outputs": [],
   "source": [
    "# grid_search = GridSearchCV(pipeline, parameters, n_jobs=1, verbose=1)\n",
    "grid_search = pipeline."
   ]
  },
  {
   "cell_type": "code",
   "execution_count": 47,
   "metadata": {},
   "outputs": [
    {
     "name": "stdout",
     "output_type": "stream",
     "text": [
      "Performing grid search...\n",
      "pipeline: ['vect', 'tfidf', 'clf']\n",
      "parameters:\n",
      "{'vect__max_df': (0.5, 0.75, 1.0), 'vect__ngram_range': ((1, 1), (1, 2)), 'clf__alpha': (1e-05, 1e-06), 'clf__penalty': ('l2', 'elasticnet')}\n",
      "Fitting 5 folds for each of 24 candidates, totalling 120 fits\n"
     ]
    },
    {
     "ename": "TypeError",
     "evalue": "'module' object is not callable",
     "output_type": "error",
     "traceback": [
      "\u001b[0;31m---------------------------------------------------------------------------\u001b[0m",
      "\u001b[0;31mTypeError\u001b[0m                                 Traceback (most recent call last)",
      "\u001b[0;32m<ipython-input-47-626d8d881fa8>\u001b[0m in \u001b[0;36m<module>\u001b[0;34m()\u001b[0m\n\u001b[1;32m      6\u001b[0m \u001b[0mt0\u001b[0m \u001b[0;34m=\u001b[0m \u001b[0mtime\u001b[0m\u001b[0;34m.\u001b[0m\u001b[0mtime\u001b[0m\u001b[0;34m(\u001b[0m\u001b[0;34m)\u001b[0m\u001b[0;34m\u001b[0m\u001b[0m\n\u001b[1;32m      7\u001b[0m \u001b[0mgrid_search\u001b[0m\u001b[0;34m.\u001b[0m\u001b[0mfit\u001b[0m\u001b[0;34m(\u001b[0m\u001b[0mdf\u001b[0m\u001b[0;34m[\u001b[0m\u001b[0;34m'text'\u001b[0m\u001b[0;34m]\u001b[0m\u001b[0;34m,\u001b[0m \u001b[0mdf\u001b[0m\u001b[0;34m[\u001b[0m\u001b[0;34m'label'\u001b[0m\u001b[0;34m]\u001b[0m\u001b[0;34m)\u001b[0m\u001b[0;34m\u001b[0m\u001b[0m\n\u001b[0;32m----> 8\u001b[0;31m \u001b[0mprint\u001b[0m\u001b[0;34m(\u001b[0m\u001b[0;34m\"done in %0.3fs\"\u001b[0m \u001b[0;34m%\u001b[0m \u001b[0;34m(\u001b[0m\u001b[0mtime\u001b[0m\u001b[0;34m(\u001b[0m\u001b[0;34m)\u001b[0m \u001b[0;34m-\u001b[0m \u001b[0mt0\u001b[0m\u001b[0;34m)\u001b[0m\u001b[0;34m)\u001b[0m\u001b[0;34m\u001b[0m\u001b[0m\n\u001b[0m\u001b[1;32m      9\u001b[0m \u001b[0mprint\u001b[0m\u001b[0;34m(\u001b[0m\u001b[0;34m)\u001b[0m\u001b[0;34m\u001b[0m\u001b[0m\n\u001b[1;32m     10\u001b[0m \u001b[0;34m\u001b[0m\u001b[0m\n",
      "\u001b[0;31mTypeError\u001b[0m: 'module' object is not callable"
     ]
    }
   ],
   "source": [
    "import time\n",
    "print(\"Performing grid search...\")\n",
    "print(\"pipeline:\", [name for name, _ in pipeline.steps])\n",
    "print(\"parameters:\")\n",
    "print(parameters)\n",
    "t0 = time.time()\n",
    "grid_search.fit(df['text'], df['label'])\n",
    "print(\"done in %0.3fs\" % (time.time() - t0))\n",
    "print()\n",
    "\n",
    "print(\"Best score: %0.3f\" % grid_search.best_score_)\n",
    "print(\"Best parameters set:\")\n",
    "best_parameters = grid_search.best_estimator_.get_params()\n",
    "for param_name in sorted(parameters.keys()):\n",
    "    print(\"\\t%s: %r\" % (param_name, best_parameters[param_name]))"
   ]
  },
  {
   "cell_type": "code",
   "execution_count": 32,
   "metadata": {},
   "outputs": [
    {
     "name": "stdout",
     "output_type": "stream",
     "text": [
      "332.935\n"
     ]
    }
   ],
   "source": [
    "print(data.nnz / float(data.shape[0]))"
   ]
  },
  {
   "cell_type": "code",
   "execution_count": 22,
   "metadata": {},
   "outputs": [
    {
     "data": {
      "text/plain": [
       "518246"
      ]
     },
     "execution_count": 22,
     "metadata": {},
     "output_type": "execute_result"
    }
   ],
   "source": [
    "data.nnz"
   ]
  },
  {
   "cell_type": "code",
   "execution_count": 398,
   "metadata": {},
   "outputs": [
    {
     "data": {
      "text/plain": [
       "[[{'alpha': 0.007930385563326956}, 0],\n",
       " [{'alpha': 0.002087040690291714}, 0],\n",
       " [{'alpha': 0.0008905960211534999}, 0],\n",
       " [{'alpha': 2.533014040528926e-05}, 0],\n",
       " [{'alpha': 0.06284600365837575}, 0],\n",
       " [{'alpha': 0.011850138505345099}, 0],\n",
       " [{'alpha': 0.00018358009188818613}, 0],\n",
       " [{'alpha': 0.006306402958287863}, 0],\n",
       " [{'alpha': 0.00024236551594002034}, 0],\n",
       " [{'alpha': 0.0648710572749603}, 0],\n",
       " [{'alpha': 0.00039216592930031507}, 0],\n",
       " [{'alpha': 0.01944503901120982}, 0],\n",
       " [{'alpha': 0.0028408730352083586}, 0]]"
      ]
     },
     "execution_count": 398,
     "metadata": {},
     "output_type": "execute_result"
    }
   ],
   "source": [
    "r"
   ]
  },
  {
   "cell_type": "code",
   "execution_count": 397,
   "metadata": {
    "scrolled": false
   },
   "outputs": [
    {
     "name": "stderr",
     "output_type": "stream",
     "text": [
      "\u001b[32m[I 2021-04-02 11:08:15,695]\u001b[0m A new study created in memory with name: no-name-8a10696e-1dcf-425d-9e4a-83e64423795a\u001b[0m\n",
      "\u001b[32m[I 2021-04-02 11:08:15,876]\u001b[0m Trial 0 finished with value: 0.1842105263157895 and parameters: {'alpha': 1.4291381571743018e-05}. Best is trial 0 with value: 0.1842105263157895.\u001b[0m\n",
      "\u001b[32m[I 2021-04-02 11:08:16,054]\u001b[0m Trial 1 finished with value: 0.07894736842105265 and parameters: {'alpha': 0.005107553051420537}. Best is trial 1 with value: 0.07894736842105265.\u001b[0m\n",
      "\u001b[32m[I 2021-04-02 11:08:16,232]\u001b[0m Trial 2 finished with value: 0.02631578947368418 and parameters: {'alpha': 0.0005524070793445816}. Best is trial 2 with value: 0.02631578947368418.\u001b[0m\n",
      "\u001b[32m[I 2021-04-02 11:08:16,410]\u001b[0m Trial 3 finished with value: 0.1842105263157895 and parameters: {'alpha': 0.0008592746649733886}. Best is trial 2 with value: 0.02631578947368418.\u001b[0m\n",
      "\u001b[32m[I 2021-04-02 11:08:16,605]\u001b[0m Trial 4 finished with value: 0.10526315789473684 and parameters: {'alpha': 7.388239947010528e-05}. Best is trial 2 with value: 0.02631578947368418.\u001b[0m\n",
      "\u001b[32m[I 2021-04-02 11:08:16,611]\u001b[0m Trial 5 pruned. \u001b[0m\n",
      "\u001b[32m[I 2021-04-02 11:08:16,814]\u001b[0m Trial 6 finished with value: 0.2894736842105263 and parameters: {'alpha': 2.8581000361150633e-05}. Best is trial 2 with value: 0.02631578947368418.\u001b[0m\n",
      "\u001b[32m[I 2021-04-02 11:08:16,820]\u001b[0m Trial 7 pruned. \u001b[0m\n",
      "\u001b[32m[I 2021-04-02 11:08:16,826]\u001b[0m Trial 8 pruned. \u001b[0m\n",
      "\u001b[32m[I 2021-04-02 11:08:16,832]\u001b[0m Trial 9 pruned. \u001b[0m\n",
      "\u001b[32m[I 2021-04-02 11:08:16,840]\u001b[0m Trial 10 pruned. \u001b[0m\n",
      "\u001b[32m[I 2021-04-02 11:08:16,849]\u001b[0m Trial 11 pruned. \u001b[0m\n",
      "\u001b[32m[I 2021-04-02 11:08:16,857]\u001b[0m Trial 12 pruned. \u001b[0m\n",
      "\u001b[32m[I 2021-04-02 11:08:16,866]\u001b[0m Trial 13 pruned. \u001b[0m\n",
      "\u001b[32m[I 2021-04-02 11:08:16,874]\u001b[0m Trial 14 pruned. \u001b[0m\n",
      "\u001b[32m[I 2021-04-02 11:08:16,883]\u001b[0m Trial 15 pruned. \u001b[0m\n",
      "\u001b[32m[I 2021-04-02 11:08:17,090]\u001b[0m Trial 16 finished with value: 0.07894736842105265 and parameters: {'alpha': 0.0024435620769754553}. Best is trial 2 with value: 0.02631578947368418.\u001b[0m\n",
      "\u001b[32m[I 2021-04-02 11:08:17,100]\u001b[0m Trial 17 pruned. \u001b[0m\n",
      "\u001b[32m[I 2021-04-02 11:08:17,111]\u001b[0m Trial 18 pruned. \u001b[0m\n",
      "\u001b[32m[I 2021-04-02 11:08:17,120]\u001b[0m Trial 19 pruned. \u001b[0m\n"
     ]
    }
   ],
   "source": [
    "import optuna\n",
    "import sklearn.datasets\n",
    "import sklearn.linear_model\n",
    "import sklearn.model_selection\n",
    "r = []\n",
    "\n",
    "def objective(trial):\n",
    "    iris = sklearn.datasets.load_iris()\n",
    "    classes = list(set(iris.target))\n",
    "    train_x, valid_x, train_y, valid_y = sklearn.model_selection.train_test_split(\n",
    "        iris.data, iris.target, test_size=0.25, random_state=0\n",
    "    )\n",
    "\n",
    "    alpha = trial.suggest_float(\"alpha\", 1e-5, 1e-1, log=True)\n",
    "    clf = sklearn.linear_model.SGDClassifier(alpha=alpha)\n",
    "\n",
    "    for step in range(100):\n",
    "        clf.partial_fit(train_x, train_y, classes=classes)\n",
    "\n",
    "        # Report intermediate objective value.\n",
    "        intermediate_value = 1.0 - clf.score(valid_x, valid_y)\n",
    "        trial.report(intermediate_value, step) # report 汇报每个step的验证集评价\n",
    "\n",
    "        # Handle pruning based on the intermediate value.\n",
    "        if trial.should_prune():\n",
    "            r.append([trial.params,step])\n",
    "            raise optuna.TrialPruned()\n",
    "    \n",
    "    return 1.0 - clf.score(valid_x, valid_y) # 返回最终的验证集评价\n",
    "\n",
    "study = optuna.create_study(pruner=optuna.pruners.MedianPruner())\n",
    "study.optimize(objective, n_trials=20)"
   ]
  },
  {
   "cell_type": "code",
   "execution_count": 306,
   "metadata": {},
   "outputs": [],
   "source": [
    "a = pd.read_csv(\"../a\",header=None)"
   ]
  },
  {
   "cell_type": "code",
   "execution_count": 360,
   "metadata": {},
   "outputs": [],
   "source": [
    "a['c'] = a['b'].map(math.log)"
   ]
  },
  {
   "cell_type": "code",
   "execution_count": 361,
   "metadata": {},
   "outputs": [],
   "source": [
    "a = a.sort_values(by='b')"
   ]
  },
  {
   "cell_type": "code",
   "execution_count": 382,
   "metadata": {},
   "outputs": [
    {
     "data": {
      "text/html": [
       "<div>\n",
       "<style scoped>\n",
       "    .dataframe tbody tr th:only-of-type {\n",
       "        vertical-align: middle;\n",
       "    }\n",
       "\n",
       "    .dataframe tbody tr th {\n",
       "        vertical-align: top;\n",
       "    }\n",
       "\n",
       "    .dataframe thead th {\n",
       "        text-align: right;\n",
       "    }\n",
       "</style>\n",
       "<table border=\"1\" class=\"dataframe\">\n",
       "  <thead>\n",
       "    <tr style=\"text-align: right;\">\n",
       "      <th></th>\n",
       "      <th>a</th>\n",
       "      <th>b</th>\n",
       "      <th>c</th>\n",
       "    </tr>\n",
       "  </thead>\n",
       "  <tbody>\n",
       "    <tr>\n",
       "      <th>31</th>\n",
       "      <td>31</td>\n",
       "      <td>2.636271e-10</td>\n",
       "      <td>-22.056485</td>\n",
       "    </tr>\n",
       "    <tr>\n",
       "      <th>32</th>\n",
       "      <td>32</td>\n",
       "      <td>2.959118e-10</td>\n",
       "      <td>-21.940960</td>\n",
       "    </tr>\n",
       "    <tr>\n",
       "      <th>27</th>\n",
       "      <td>27</td>\n",
       "      <td>2.091189e-07</td>\n",
       "      <td>-15.380363</td>\n",
       "    </tr>\n",
       "    <tr>\n",
       "      <th>25</th>\n",
       "      <td>25</td>\n",
       "      <td>1.647922e-05</td>\n",
       "      <td>-11.013411</td>\n",
       "    </tr>\n",
       "    <tr>\n",
       "      <th>48</th>\n",
       "      <td>48</td>\n",
       "      <td>8.282536e-05</td>\n",
       "      <td>-9.398776</td>\n",
       "    </tr>\n",
       "    <tr>\n",
       "      <th>...</th>\n",
       "      <td>...</td>\n",
       "      <td>...</td>\n",
       "      <td>...</td>\n",
       "    </tr>\n",
       "    <tr>\n",
       "      <th>82</th>\n",
       "      <td>82</td>\n",
       "      <td>2.635495e+05</td>\n",
       "      <td>12.481996</td>\n",
       "    </tr>\n",
       "    <tr>\n",
       "      <th>83</th>\n",
       "      <td>83</td>\n",
       "      <td>1.162017e+06</td>\n",
       "      <td>13.965668</td>\n",
       "    </tr>\n",
       "    <tr>\n",
       "      <th>84</th>\n",
       "      <td>84</td>\n",
       "      <td>2.738270e+06</td>\n",
       "      <td>14.822837</td>\n",
       "    </tr>\n",
       "    <tr>\n",
       "      <th>85</th>\n",
       "      <td>85</td>\n",
       "      <td>3.311444e+06</td>\n",
       "      <td>15.012895</td>\n",
       "    </tr>\n",
       "    <tr>\n",
       "      <th>86</th>\n",
       "      <td>86</td>\n",
       "      <td>3.680134e+09</td>\n",
       "      <td>22.026215</td>\n",
       "    </tr>\n",
       "  </tbody>\n",
       "</table>\n",
       "<p>87 rows × 3 columns</p>\n",
       "</div>"
      ],
      "text/plain": [
       "     a             b          c\n",
       "31  31  2.636271e-10 -22.056485\n",
       "32  32  2.959118e-10 -21.940960\n",
       "27  27  2.091189e-07 -15.380363\n",
       "25  25  1.647922e-05 -11.013411\n",
       "48  48  8.282536e-05  -9.398776\n",
       "..  ..           ...        ...\n",
       "82  82  2.635495e+05  12.481996\n",
       "83  83  1.162017e+06  13.965668\n",
       "84  84  2.738270e+06  14.822837\n",
       "85  85  3.311444e+06  15.012895\n",
       "86  86  3.680134e+09  22.026215\n",
       "\n",
       "[87 rows x 3 columns]"
      ]
     },
     "execution_count": 382,
     "metadata": {},
     "output_type": "execute_result"
    }
   ],
   "source": [
    "a"
   ]
  },
  {
   "cell_type": "code",
   "execution_count": 362,
   "metadata": {},
   "outputs": [
    {
     "name": "stderr",
     "output_type": "stream",
     "text": [
      "/home/liubin/.local/lib/python3.6/site-packages/seaborn/_decorators.py:43: FutureWarning: Pass the following variables as keyword args: x, y. From version 0.12, the only valid positional argument will be `data`, and passing other arguments without an explicit keyword will result in an error or misinterpretation.\n",
      "  FutureWarning\n"
     ]
    },
    {
     "data": {
      "text/plain": [
       "<matplotlib.axes._subplots.AxesSubplot at 0x7f4cc0605eb8>"
      ]
     },
     "execution_count": 362,
     "metadata": {},
     "output_type": "execute_result"
    },
    {
     "data": {
      "image/png": "[encoded data removed]",
      "text/plain": [
       "<Figure size 432x288 with 1 Axes>"
      ]
     },
     "metadata": {},
     "output_type": "display_data"
    }
   ],
   "source": [
    "sns.lineplot('a','c',data=a)"
   ]
  },
  {
   "cell_type": "code",
   "execution_count": 364,
   "metadata": {},
   "outputs": [],
   "source": [
    "b = \"\"\"\n",
    "3065604677.38784\n",
    "6185976327.764417\n",
    "7879052374.208552\n",
    "301600215.80843544\n",
    "9297610650.519218\n",
    "489165687.69311523\n",
    "3013358940.51073\n",
    "4406368022.806358\n",
    "9895224022.36684\n",
    "6992962464.40174\n",
    "\"\"\""
   ]
  },
  {
   "cell_type": "code",
   "execution_count": 381,
   "metadata": {},
   "outputs": [
    {
     "data": {
      "text/plain": [
       "<matplotlib.axes._subplots.AxesSubplot at 0x7f4cc00e2940>"
      ]
     },
     "execution_count": 381,
     "metadata": {},
     "output_type": "execute_result"
    },
    {
     "data": {
      "image/png": "[encoded data removed]",
      "text/plain": [
       "<Figure size 432x288 with 1 Axes>"
      ]
     },
     "metadata": {},
     "output_type": "display_data"
    }
   ],
   "source": [
    "b.plot(kind='line')"
   ]
  },
  {
   "cell_type": "code",
   "execution_count": 325,
   "metadata": {},
   "outputs": [
    {
     "data": {
      "text/plain": [
       "<matplotlib.axes._subplots.AxesSubplot at 0x7f4cc0bc6d30>"
      ]
     },
     "execution_count": 325,
     "metadata": {},
     "output_type": "execute_result"
    },
    {
     "data": {
      "image/png": "[encoded data removed]",
      "text/plain": [
       "<Figure size 432x288 with 1 Axes>"
      ]
     },
     "metadata": {},
     "output_type": "display_data"
    }
   ],
   "source": [
    "import seaborn as sns\n",
    "sns.set_theme(style=\"darkgrid\")\n",
    "\n",
    "# Load an example dataset with long-form data\n",
    "fmri = sns.load_dataset(\"fmri\")\n",
    "\n",
    "# Plot the responses for different events and regions\n",
    "sns.lineplot(x=\"timepoint\", y=\"signal\",\n",
    "             hue=\"region\", style=\"event\",\n",
    "             data=fmri)"
   ]
  },
  {
   "cell_type": "code",
   "execution_count": null,
   "metadata": {},
   "outputs": [],
   "source": []
  }
 ],
 "metadata": {
  "kernelspec": {
   "display_name": "Python 3",
   "language": "python",
   "name": "python3"
  },
  "language_info": {
   "codemirror_mode": {
    "name": "ipython",
    "version": 3
   },
   "file_extension": ".py",
   "mimetype": "text/x-python",
   "name": "python",
   "nbconvert_exporter": "python",
   "pygments_lexer": "ipython3",
   "version": "3.6.5"
  }
 },
 "nbformat": 4,
 "nbformat_minor": 2
}
